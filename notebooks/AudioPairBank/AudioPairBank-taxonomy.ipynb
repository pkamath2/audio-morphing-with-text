{
 "cells": [
  {
   "cell_type": "code",
   "execution_count": 1,
   "id": "0163caa1-4552-424c-90a9-186cc1dd197f",
   "metadata": {},
   "outputs": [],
   "source": [
    "from bs4 import BeautifulSoup"
   ]
  },
  {
   "cell_type": "code",
   "execution_count": 4,
   "id": "16b84b2d-a607-4540-84d3-7c35bb013a88",
   "metadata": {},
   "outputs": [],
   "source": [
    "with open('AudioPairBank/Taxonomy-Scraped.txt') as f:\n",
    "    content = f.read()\n",
    "# print(content)\n",
    "soup = BeautifulSoup(content, \"html.parser\")"
   ]
  },
  {
   "cell_type": "code",
   "execution_count": 24,
   "id": "1ca20137-deb9-40db-a42a-131100deb12a",
   "metadata": {},
   "outputs": [],
   "source": [
    "results_anp = soup.find(id=\"apbb_anps_table\")\n",
    "results_vnp = soup.find(id=\"apbb_vnps_table\")\n",
    "\n",
    "adjective_noun_pairs = []\n",
    "verb_noun_pairs = []\n",
    "\n",
    "anps = results_anp.find_all(\"tr\")\n",
    "for anp in anps:\n",
    "    anp_tds= anp.find_all(\"td\")\n",
    "    if len(anp_tds) > 0:\n",
    "        adjective_noun_pairs.append(anp_tds[0].text + \" \" + anp_tds[1].text)\n",
    "\n",
    "\n",
    "vnps = results_vnp.find_all(\"tr\")\n",
    "for vnp in vnps:\n",
    "    vnp_tds= vnp.find_all(\"td\")\n",
    "    if len(vnp_tds) > 0:\n",
    "        verb_noun_pairs.append(vnp_tds[0].text + \" \" + vnp_tds[1].text)\n"
   ]
  },
  {
   "cell_type": "code",
   "execution_count": 28,
   "id": "c8e69490-e4db-4173-9db4-213c9107a354",
   "metadata": {},
   "outputs": [
    {
     "data": {
      "text/plain": [
       "(758, 358, 1116)"
      ]
     },
     "execution_count": 28,
     "metadata": {},
     "output_type": "execute_result"
    }
   ],
   "source": [
    "len(adjective_noun_pairs), len(verb_noun_pairs), len(adjective_noun_pairs)+len(verb_noun_pairs)"
   ]
  },
  {
   "cell_type": "code",
   "execution_count": 31,
   "id": "cfb63a36-1940-43e5-b124-40794504a783",
   "metadata": {},
   "outputs": [],
   "source": [
    "with open('AudioPairBank/adjective_noun_pairs.txt', 'w') as f:\n",
    "    for anp in adjective_noun_pairs:\n",
    "        f.write(anp+\"\\n\")\n",
    "\n",
    "with open('AudioPairBank/verb_noun_pairs.txt', 'w') as f:\n",
    "    for vnp in verb_noun_pairs:\n",
    "        f.write(vnp+\"\\n\")\n"
   ]
  },
  {
   "cell_type": "code",
   "execution_count": null,
   "id": "9026d3f4-b282-4d25-b163-b4ae3e23ad51",
   "metadata": {},
   "outputs": [],
   "source": []
  }
 ],
 "metadata": {
  "kernelspec": {
   "display_name": "audioldm2",
   "language": "python",
   "name": "audioldm2"
  },
  "language_info": {
   "codemirror_mode": {
    "name": "ipython",
    "version": 3
   },
   "file_extension": ".py",
   "mimetype": "text/x-python",
   "name": "python",
   "nbconvert_exporter": "python",
   "pygments_lexer": "ipython3",
   "version": "3.8.18"
  }
 },
 "nbformat": 4,
 "nbformat_minor": 5
}
